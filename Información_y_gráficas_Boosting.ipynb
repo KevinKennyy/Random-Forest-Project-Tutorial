{
  "nbformat": 4,
  "nbformat_minor": 0,
  "metadata": {
    "colab": {
      "provenance": []
    },
    "kernelspec": {
      "name": "python3",
      "display_name": "Python 3"
    },
    "language_info": {
      "name": "python"
    }
  },
  "cells": [
    {
      "cell_type": "code",
      "execution_count": 2,
      "metadata": {
        "colab": {
          "base_uri": "https://localhost:8080/"
        },
        "id": "8dqLzIvpbaO7",
        "outputId": "3f9e4a63-7dbf-410a-b925-a44e3f100467"
      },
      "outputs": [
        {
          "output_type": "stream",
          "name": "stdout",
          "text": [
            "RMSE a medida que aumenta n_estimators:\n",
            "n_estimators=1: RMSE=0.9434\n",
            "n_estimators=2: RMSE=0.8019\n",
            "n_estimators=3: RMSE=0.6816\n",
            "n_estimators=4: RMSE=0.5794\n",
            "n_estimators=5: RMSE=0.4925\n",
            "n_estimators=6: RMSE=0.4186\n",
            "n_estimators=7: RMSE=0.3558\n",
            "n_estimators=8: RMSE=0.3024\n",
            "n_estimators=9: RMSE=0.2571\n",
            "n_estimators=10: RMSE=0.2185\n"
          ]
        }
      ],
      "source": [
        "import xgboost as xgb\n",
        "from xgboost import plot_importance\n",
        "import matplotlib.pyplot as plt\n",
        "\n",
        "# Ejemplo de datos de entrenamiento\n",
        "# Reemplaza esto con tus propios datos\n",
        "X_train = [[0, 1], [1, 2], [2, 3], [3, 4]]\n",
        "y_train = [0, 1, 2, 3]\n",
        "\n",
        "# Configuración del modelo XGBoost\n",
        "params = {'objective': 'reg:squarederror', 'eval_metric': 'rmse'}\n",
        "\n",
        "# Lista para almacenar los errores a medida que aumenta n_estimators\n",
        "errors = []\n",
        "\n",
        "# Lista para almacenar las gráficas\n",
        "figures = []\n",
        "\n",
        "# Bucle para entrenar el modelo con diferentes n_estimators\n",
        "for n in range(1, 11):  # Prueba con 10 estimadores, puedes ajustar esto según tus necesidades\n",
        "    model = xgb.XGBRegressor(n_estimators=n, **params)\n",
        "    model.fit(X_train, y_train)\n",
        "\n",
        "    # Calcular el error (RMSE)\n",
        "    predictions = model.predict(X_train)\n",
        "    rmse = ((predictions - y_train) ** 2).mean() ** 0.5\n",
        "    errors.append(rmse)\n",
        "\n",
        "# Guardar las gráficas de los árboles de decisión\n",
        "for i in range(5):  # Cambia este rango según el número de estimadores que desees visualizar\n",
        "    fig, ax = plt.subplots(figsize=(20, 10))\n",
        "    xgb.plot_tree(model, num_trees=i, ax=ax)\n",
        "    plt.savefig(f'tree_{i}.png')\n",
        "    plt.close(fig)\n",
        "\n",
        "# Mostrar el progreso del error\n",
        "print(\"RMSE a medida que aumenta n_estimators:\")\n",
        "for n, error in enumerate(errors, 1):\n",
        "    print(f\"n_estimators={n}: RMSE={error:.4f}\")"
      ]
    }
  ]
}